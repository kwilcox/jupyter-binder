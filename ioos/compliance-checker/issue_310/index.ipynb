{
 "cells": [
  {
   "cell_type": "markdown",
   "metadata": {},
   "source": [
    "### IOOS Compliance Checker - [Issue 301](https://github.com/ioos/compliance-checker/issues/310)"
   ]
  },
  {
   "cell_type": "code",
   "execution_count": 1,
   "metadata": {
    "collapsed": false
   },
   "outputs": [],
   "source": [
    "import os\n",
    "import tempfile\n",
    "from itertools import product\n",
    "from collections import namedtuple as nt\n",
    "from compliance_checker.runner import ComplianceChecker, CheckSuite"
   ]
  },
  {
   "cell_type": "code",
   "execution_count": 2,
   "metadata": {
    "collapsed": false
   },
   "outputs": [],
   "source": [
    "def compliance(filepath, output_format, output_filename=None):\n",
    "    check_suite = CheckSuite()\n",
    "    check_suite.load_all_available_checkers()\n",
    "    \n",
    "    if output_filename is None:\n",
    "        _, output_filename = tempfile.mkstemp()\n",
    "    \n",
    "    try:\n",
    "        return_value, errors = ComplianceChecker.run_checker(\n",
    "            ds_loc=filepath,\n",
    "            checker_names=['acdd'],\n",
    "            verbose=False,\n",
    "            criteria='normal',\n",
    "            output_format=output_format,\n",
    "            output_filename=output_filename\n",
    "        )\n",
    "        return not errors\n",
    "    except BaseException:\n",
    "        return False\n",
    "    finally:\n",
    "        if os.path.isfile(output_filename):\n",
    "            #with open(output_filename, 'rt') as f:\n",
    "            #    print(f.read())\n",
    "            os.remove(output_filename)\n"
   ]
  },
  {
   "cell_type": "code",
   "execution_count": 3,
   "metadata": {
    "collapsed": true
   },
   "outputs": [],
   "source": [
    "output  = [None]\n",
    "formats = ['json', 'stdout', 'html']\n",
    "files   = ['http://denver.axiom:9087/thredds/dodsC/secoora/share/cc_issue_301/should_pass.nc']"
   ]
  },
  {
   "cell_type": "code",
   "execution_count": 4,
   "metadata": {
    "collapsed": false
   },
   "outputs": [],
   "source": [
    "combo = nt('Run', 'filepath output_format output_filename')\n",
    "combinations = [\n",
    "    combo(x[0], x[1], x[2]) for x in product(files, formats, output)\n",
    "]"
   ]
  },
  {
   "cell_type": "code",
   "execution_count": 5,
   "metadata": {
    "collapsed": false
   },
   "outputs": [
    {
     "name": "stdout",
     "output_type": "stream",
     "text": [
      "******************************************************************\n",
      "Run(filepath='http://denver.axiom:9087/thredds/dodsC/secoora/share/cc_issue_301/should_pass.nc', output_format='json', output_filename=None)\n",
      "Returned: True\n",
      "\n",
      "******************************************************************\n",
      "Run(filepath='http://denver.axiom:9087/thredds/dodsC/secoora/share/cc_issue_301/should_pass.nc', output_format='stdout', output_filename=None)\n",
      "Returned: False\n",
      "\n",
      "******************************************************************\n",
      "Run(filepath='http://denver.axiom:9087/thredds/dodsC/secoora/share/cc_issue_301/should_pass.nc', output_format='html', output_filename=None)\n",
      "Returned: True\n",
      "\n"
     ]
    }
   ],
   "source": [
    "for run in combinations:\n",
    "    print('******************************************************************')\n",
    "    print(run)\n",
    "    print(\"Returned: {}\".format(compliance(**run._asdict())))\n",
    "    print()"
   ]
  },
  {
   "cell_type": "code",
   "execution_count": null,
   "metadata": {
    "collapsed": true
   },
   "outputs": [],
   "source": []
  }
 ],
 "metadata": {
  "kernelspec": {
   "display_name": "Python 3",
   "language": "python",
   "name": "python3"
  },
  "language_info": {
   "codemirror_mode": {
    "name": "ipython",
    "version": 3
   },
   "file_extension": ".py",
   "mimetype": "text/x-python",
   "name": "python",
   "nbconvert_exporter": "python",
   "pygments_lexer": "ipython3",
   "version": "3.5.2"
  }
 },
 "nbformat": 4,
 "nbformat_minor": 0
}
